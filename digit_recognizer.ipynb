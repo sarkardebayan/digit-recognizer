{
  "metadata": {
    "kernelspec": {
      "language": "python",
      "display_name": "Python 3",
      "name": "python3"
    },
    "language_info": {
      "name": "python",
      "version": "3.7.12",
      "mimetype": "text/x-python",
      "codemirror_mode": {
        "name": "ipython",
        "version": 3
      },
      "pygments_lexer": "ipython3",
      "nbconvert_exporter": "python",
      "file_extension": ".py"
    },
    "colab": {
      "provenance": []
    },
    "gpuClass": "standard"
  },
  "nbformat_minor": 0,
  "nbformat": 4,
  "cells": [
    {
      "cell_type": "code",
      "source": [
        "from google.colab import drive\n",
        "drive.mount('/content/drive')"
      ],
      "metadata": {
        "id": "7Is29T4i4XGc"
      },
      "execution_count": null,
      "outputs": []
    },
    {
      "cell_type": "code",
      "source": [
        "import numpy as np # For linear algebra\n",
        "import pandas as pd # For reading in the data\n",
        "from matplotlib import pyplot as plt # For showing the image"
      ],
      "metadata": {
        "_uuid": "0dd02ad1-8a58-4273-b764-710640f02e48",
        "_cell_guid": "6323c11d-2dae-474c-b1c2-07600479dae0",
        "jupyter": {
          "outputs_hidden": false
        },
        "execution": {
          "iopub.status.busy": "2023-02-04T09:07:12.811655Z",
          "iopub.execute_input": "2023-02-04T09:07:12.812072Z",
          "iopub.status.idle": "2023-02-04T09:07:12.817119Z",
          "shell.execute_reply.started": "2023-02-04T09:07:12.812036Z",
          "shell.execute_reply": "2023-02-04T09:07:12.816093Z"
        },
        "trusted": true,
        "id": "9lHVsk2s3_zK"
      },
      "execution_count": null,
      "outputs": []
    },
    {
      "cell_type": "code",
      "source": [
        "def sigmoid(x): # The activation function. Range of the function is (0,1]\n",
        "    return 1/(1 + np.exp(-x))\n",
        "def sigmoid_prime(x): # The derivative of the activation function\n",
        "    return sigmoid(x)*(1 - sigmoid(x))"
      ],
      "metadata": {
        "_uuid": "5ed7f727-6aae-457a-9404-13c79dfc3fa5",
        "_cell_guid": "8ab088e5-e870-46d8-a425-83be3b7e1ab8",
        "jupyter": {
          "outputs_hidden": false
        },
        "execution": {
          "iopub.status.busy": "2023-02-04T09:07:13.760801Z",
          "iopub.execute_input": "2023-02-04T09:07:13.761254Z",
          "iopub.status.idle": "2023-02-04T09:07:13.767258Z",
          "shell.execute_reply.started": "2023-02-04T09:07:13.761216Z",
          "shell.execute_reply": "2023-02-04T09:07:13.766258Z"
        },
        "trusted": true,
        "id": "UjeCY1dt3_zP"
      },
      "execution_count": null,
      "outputs": []
    },
    {
      "cell_type": "code",
      "source": [
        "data = pd.read_csv('/content/drive/MyDrive/datasets/train.csv')\n",
        "data = np.array(data)\n",
        "np.random.shuffle(data)"
      ],
      "metadata": {
        "_uuid": "62087da7-9994-48b8-b940-168f4e8d3222",
        "_cell_guid": "c8772323-68a9-42db-9683-c97ac77997b4",
        "jupyter": {
          "outputs_hidden": false
        },
        "execution": {
          "iopub.status.busy": "2023-02-04T09:07:14.888385Z",
          "iopub.execute_input": "2023-02-04T09:07:14.889102Z",
          "iopub.status.idle": "2023-02-04T09:07:17.676041Z",
          "shell.execute_reply.started": "2023-02-04T09:07:14.889059Z",
          "shell.execute_reply": "2023-02-04T09:07:17.675111Z"
        },
        "trusted": true,
        "id": "qD2j76AU3_zT"
      },
      "execution_count": null,
      "outputs": []
    },
    {
      "cell_type": "markdown",
      "source": [
        "This neural network will have only one hidden layer. The input layer has 784 neurons, each corresponding to one pixel on the 28 by 28 grid of the image. The next layer is a hidden layer with 16 neurons. The last layer or the output layer has 10 neurons where each neuron corresponds to one of the 10 digits. It uses the sigmoid function as the activation function. So, the values on each neuron is always between 0 and 1.\n",
        "#### Forward Propagation : \n",
        "$$Z^{[1]} = W^{[1]}A^{[0]} + b^{[1]}$$\n",
        "$$A^{[1]} = \\sigma(Z^{[1]})$$\n",
        "$$Z^{[2]} = W^{[2]}A^{[1]} + b^{[2]}$$\n",
        "$$A^{[2]} = \\sigma(Z^{[2]})$$\n",
        "#### Backward Propagation :\n",
        "$$dZ^{[2]} = 2\\sigma^{'}(Z^{[2]})\\cdot (A^{[2]} - Y)$$\n",
        "$$dw^{[2]} = 2dZ^{[2]}A^{[1]T}$$\n",
        "$$db^{[2]} = dZ^{[2]}$$\n",
        "$$dZ^{[1]} = W^{[2]}dZ^{[2]}\\cdot \\sigma^{'}(Z^{[1]})$$\n",
        "$$dW^{[1]} = 2dZ^{[1]}A^{[0]T}$$\n",
        "$$db^{[1]} = dZ^{[1]}$$\n",
        "#### Activation Function :\n",
        "$$\\sigma(x)  = \\frac{1}{1 + e^{-x}}$$ \n",
        "$$\\sigma^{'}(x) = \\sigma(x)(1-\\sigma(x))$$"
      ],
      "metadata": {
        "id": "H6U1xwmQ9bgH"
      }
    },
    {
      "cell_type": "code",
      "source": [
        "def init_params(): # Initializes the neural net with random weights and biases\n",
        "    W1 = np.random.rand(16, 784) - 0.5\n",
        "    b1 = np.random.rand(16, ) - 0.5\n",
        "    b1 = b1.reshape(16, 1)\n",
        "    W2 = np.random.rand(10, 16) - 0.5\n",
        "    b2 = np.random.rand(10,) - 0.5\n",
        "    b2 = b2.reshape(10, 1)\n",
        "    return W1, b1, W2, b2\n",
        "\n",
        "def norma0(arr): # Normalizes the value of each pixel from [0,255] to [0,1]\n",
        "    a0 = arr[1:]/255\n",
        "    a0 = a0.reshape(784,1)\n",
        "    return arr[0], a0\n",
        "\n",
        "def forward_prop(a0, W1, b1, W2, b2): # Calculates the activations of the neurons in successive layers\n",
        "    Z1 = W1.dot(a0) + b1\n",
        "    a1 = sigmoid(Z1)\n",
        "    Z2 = W2.dot(a1) + b2\n",
        "    a2 = sigmoid(Z2)\n",
        "    return a1, a2, Z1, Z2\n",
        "\n",
        "def correct_ans(label): # Generates the correct output layer where all neurons except the correct one are zeroes and the correct neuron has a value of 1\n",
        "    ans = np.zeros(10,)\n",
        "    ans[label] = 1\n",
        "    ans = ans.reshape(10,1)\n",
        "    return ans\n",
        " \n",
        "def backprop(a0, a1, a2, z1, z2, W1, W2, b1, b2, Y): # Calculates the nudges required to reduce the cost function\n",
        "    dz2 = 2*sigmoid_prime(z2)*(a2 - Y)\n",
        "    dw2 = 2*dz2.dot(a1.T)\n",
        "    db2 = dz2\n",
        "    dz1 = (W2.T).dot(dz2) * sigmoid_prime(z1)\n",
        "    dw1 = 2*dz1.dot(a0.T)\n",
        "    db1 = dz1\n",
        "    return dw1, db1, dw2, db2\n",
        "\n",
        "def update_params(W1, W2, b1, b2, dw1, dw2, db1, db2, alpha): # Updates the parameters to minimize the cost function\n",
        "    W1 = W1 - alpha*dw1\n",
        "    W2 = W2 - alpha*dw2\n",
        "    b1 = b1 - alpha*db1\n",
        "    b2 = b2 - alpha*db2\n",
        "    return W1, b1, W2, b2\n",
        "\n",
        "def get_result(a2): # Get's the result based on the output layer\n",
        "    a2 = a2.reshape(10,)\n",
        "    m = a2[0]\n",
        "    ans = 0\n",
        "    for i in range(10):\n",
        "        if m < a2[i]:\n",
        "            ans = i\n",
        "            m = a2[i]\n",
        "    return ans\n",
        "\n",
        "def prediction(a0, W1, b1, W2, b2): # Get's the model's prediction based on the input layer and the weights and biases\n",
        "    a1, a2, Z1, Z2 = forward_prop(a0, W1, b1, W2, b2)\n",
        "    return get_result(a2)\n",
        "\n",
        "def draw_case(a0): # Draws out the input layer in a 28 by 28 grid using matplotlib\n",
        "    a0 = a0.reshape(28,28)\n",
        "    plt.imshow(a0, cmap = 'gray')"
      ],
      "metadata": {
        "_uuid": "a53b58d6-978e-4ceb-a85d-679cf6ddb7a2",
        "_cell_guid": "1a30c614-8542-4540-97e4-2c75bbe6b810",
        "jupyter": {
          "outputs_hidden": false
        },
        "execution": {
          "iopub.status.busy": "2023-02-04T09:15:29.019675Z",
          "iopub.execute_input": "2023-02-04T09:15:29.020185Z",
          "iopub.status.idle": "2023-02-04T09:15:29.030548Z",
          "shell.execute_reply.started": "2023-02-04T09:15:29.020144Z",
          "shell.execute_reply": "2023-02-04T09:15:29.029391Z"
        },
        "trusted": true,
        "id": "bDK1iIV_3_zU"
      },
      "execution_count": null,
      "outputs": []
    },
    {
      "cell_type": "code",
      "source": [
        "train = data[1000:] # Training Data\n",
        "test = data[0:1000] # Testing Data"
      ],
      "metadata": {
        "id": "4_idmbHlUOUM"
      },
      "execution_count": null,
      "outputs": []
    },
    {
      "cell_type": "code",
      "source": [
        "def gradient_descent(train, alpha, iterations):\n",
        "    W1, b1, W2, b2 = init_params()\n",
        "    for i in range(iterations):\n",
        "        c = 0\n",
        "        for j in range(train.shape[0]):\n",
        "            label, a0 = norma0(train[j])\n",
        "            a1, a2, Z1, Z2 = forward_prop(a0, W1, b1, W2, b2)\n",
        "            Y = correct_ans(label)\n",
        "            dw1, db1, dw2, db2 = backprop(a0, a1, a2, Z1, Z2, W1, W2, b1, b2, Y)\n",
        "            W1, b1, W2, b2 = update_params(W1, W2, b1, b2, dw1, dw2, db1, db2, alpha)\n",
        "            ans = get_result(a2)\n",
        "            if ans == label:\n",
        "                c += 1\n",
        "        accuracy = c/train.shape[0]\n",
        "        if i%10 == 0:\n",
        "            print(f\"Interation : {i}\\nAccuracy : {accuracy}\")\n",
        "    return W1, b1, W2, b2"
      ],
      "metadata": {
        "id": "XcS8cPNfYS_r"
      },
      "execution_count": null,
      "outputs": []
    },
    {
      "cell_type": "code",
      "source": [
        "W1, b1, W2, b2 = gradient_descent(train, 0.1, 50)"
      ],
      "metadata": {
        "colab": {
          "base_uri": "https://localhost:8080/"
        },
        "id": "MbKCmrYulRsu",
        "outputId": "75ec04ff-9877-4d43-b0b5-50d617244de3"
      },
      "execution_count": null,
      "outputs": [
        {
          "output_type": "stream",
          "name": "stdout",
          "text": [
            "Interation : 0\n",
            " Accuracy : 0.8763658536585366\n",
            "Interation : 10\n",
            " Accuracy : 0.946560975609756\n",
            "Interation : 20\n",
            " Accuracy : 0.9555853658536585\n",
            "Interation : 30\n",
            " Accuracy : 0.9590731707317073\n",
            "Interation : 40\n",
            " Accuracy : 0.962170731707317\n"
          ]
        }
      ]
    },
    {
      "cell_type": "markdown",
      "source": [
        "~ 96.21 % accuracy on the training set"
      ],
      "metadata": {
        "id": "75lG5H9RDydr"
      }
    },
    {
      "cell_type": "code",
      "source": [
        "count = 0\n",
        "for k in range(test.shape[0]):\n",
        "    label, a0 = norma0(test[k])\n",
        "    ans = prediction(a0, W1, b1, W2, b2)\n",
        "    if label == ans:\n",
        "        count += 1\n",
        "print(f\"Accuracy : {count/test.shape[0]}\")"
      ],
      "metadata": {
        "colab": {
          "base_uri": "https://localhost:8080/"
        },
        "id": "3EaBQ8tR1w1e",
        "outputId": "f6364d98-c3ff-4b2c-91e4-fff247b62657"
      },
      "execution_count": null,
      "outputs": [
        {
          "output_type": "stream",
          "name": "stdout",
          "text": [
            "Accuracy : 0.938\n"
          ]
        }
      ]
    },
    {
      "cell_type": "markdown",
      "source": [
        "An accuracy of 93.8 % on the testing data set"
      ],
      "metadata": {
        "id": "7_3NvMBHD4Rx"
      }
    },
    {
      "cell_type": "markdown",
      "source": [
        "Let's look at some of the predictions made by our model"
      ],
      "metadata": {
        "id": "R_LrxNRbEBkE"
      }
    },
    {
      "cell_type": "code",
      "source": [
        "label, a0 = norma0(test[89])\n",
        "print(f\"Prediction : {prediction(a0, W1, b1, W2, b2)}\")\n",
        "draw_case(a0)"
      ],
      "metadata": {
        "colab": {
          "base_uri": "https://localhost:8080/",
          "height": 282
        },
        "id": "FTFVK_mX5tEC",
        "outputId": "20fcfeb7-5106-4713-d253-46f2555e0b2c"
      },
      "execution_count": null,
      "outputs": [
        {
          "output_type": "stream",
          "name": "stdout",
          "text": [
            "Prediction : 3\n"
          ]
        },
        {
          "output_type": "display_data",
          "data": {
            "text/plain": [
              "<Figure size 432x288 with 1 Axes>"
            ],
            "image/png": "[encoded data removed]"
          },
          "metadata": {
            "needs_background": "light"
          }
        }
      ]
    },
    {
      "cell_type": "code",
      "source": [
        "label, a0 = norma0(test[125])\n",
        "print(f\"Prediction : {prediction(a0, W1, b1, W2, b2)}\")\n",
        "draw_case(a0)"
      ],
      "metadata": {
        "colab": {
          "base_uri": "https://localhost:8080/",
          "height": 282
        },
        "outputId": "a8b1ff56-ef39-4fe8-c905-c90a913c159d",
        "id": "HCIJxeSx6H23"
      },
      "execution_count": null,
      "outputs": [
        {
          "output_type": "stream",
          "name": "stdout",
          "text": [
            "Prediction : 9\n"
          ]
        },
        {
          "output_type": "display_data",
          "data": {
            "text/plain": [
              "<Figure size 432x288 with 1 Axes>"
            ],
            "image/png": "[encoded data removed]"
          },
          "metadata": {
            "needs_background": "light"
          }
        }
      ]
    },
    {
      "cell_type": "code",
      "source": [
        "label, a0 = norma0(test[255])\n",
        "print(f\"Prediction : {prediction(a0, W1, b1, W2, b2)}\")\n",
        "draw_case(a0)"
      ],
      "metadata": {
        "colab": {
          "base_uri": "https://localhost:8080/",
          "height": 282
        },
        "id": "ZDPp6vDYETKk",
        "outputId": "8f30bf3a-f253-4ab8-f63a-0abf72154f61"
      },
      "execution_count": null,
      "outputs": [
        {
          "output_type": "stream",
          "name": "stdout",
          "text": [
            "Prediction : 5\n"
          ]
        },
        {
          "output_type": "display_data",
          "data": {
            "text/plain": [
              "<Figure size 432x288 with 1 Axes>"
            ],
            "image/png": "[encoded data removed]"
          },
          "metadata": {
            "needs_background": "light"
          }
        }
      ]
    }
  ]
}